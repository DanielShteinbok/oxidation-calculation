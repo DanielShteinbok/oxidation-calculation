{
 "cells": [
  {
   "cell_type": "markdown",
   "id": "5e0b6d85",
   "metadata": {},
   "source": [
    "# Oxidation Kinetics of Copper Inside LP-CVD Chamber\n",
    "\n",
    "## Introduction and Literature Review\n",
    "Bjorck et al. have proposed a model for the kinetics of copper oxidation under low partial pressures of oxygen (Bjorck et al. 2013). In their model to predict mass gain due to oxidation at low partial pressure of oxygen, the Bjorck et al. considered two terms: one representing linear mass gain as a function of time; the other representing parabolic mass gain as a function of time. In their model, they found that depending on temperature and partial pressure conditions, either the linear or parabolic term would dominate. Their model, based on  Wagner and Grünewald (1938) as well as Rönnqvist and Fischmeister (1961), modeled the mass gain, $x$, as a function of time, $t$:\n",
    "\n",
    "$$\\frac{x}{k_l} + \\frac{x^2}{k_p} = t + t_0$$\n",
    "\n"
   ]
  },
  {
   "cell_type": "markdown",
   "id": "4c5313d8",
   "metadata": {},
   "source": [
    "# TODO:\n",
    "* write equations for $k_l$ and $k_p$, and then see if you can just go ahead and calculate the whole monster in one go\n",
    "* write equation for R, and allow for values to be plugged in after the fact to show that the linear regime is a good approximation"
   ]
  },
  {
   "cell_type": "markdown",
   "id": "f9d6c8d2",
   "metadata": {},
   "source": [
    "## Dependencies:\n",
    "* Sympy\n",
    "\n",
    "I use an Anaconda environment with sympy and ipykernel installed. This by default pretty-prints all expressions in latex."
   ]
  },
  {
   "cell_type": "code",
   "execution_count": 23,
   "id": "6e2363dd",
   "metadata": {},
   "outputs": [],
   "source": [
    "import sympy\n",
    "sympy.init_printing()"
   ]
  },
  {
   "cell_type": "code",
   "execution_count": 8,
   "id": "68ae737c",
   "metadata": {},
   "outputs": [],
   "source": [
    "k_p, k_l, t, t_0, = sympy.symbols(\"k_p, k_l, t, t_0, F_p, P_O2, P_O2ref, R, T, T_ref, n_l, e, E_1, E_2, E_l\")"
   ]
  },
  {
   "cell_type": "code",
   "execution_count": 9,
   "id": "789df850",
   "metadata": {},
   "outputs": [],
   "source": [
    "x = sympy.Rational(1/2)*(-k_p/k_l + sympy.sqrt((k_p/k_l)**2 + 4*k_p*(t - t_0)))"
   ]
  },
  {
   "cell_type": "code",
   "execution_count": 10,
   "id": "98266daa",
   "metadata": {},
   "outputs": [
    {
     "data": {
      "text/latex": [
       "$\\displaystyle \\frac{\\sqrt{4 k_{p} \\left(t - t_{0}\\right) + \\frac{k_{p}^{2}}{k_{l}^{2}}}}{2} - \\frac{k_{p}}{2 k_{l}}$"
      ],
      "text/plain": [
       "sqrt(4*k_p*(t - t_0) + k_p**2/k_l**2)/2 - k_p/(2*k_l)"
      ]
     },
     "execution_count": 10,
     "metadata": {},
     "output_type": "execute_result"
    }
   ],
   "source": [
    "x"
   ]
  },
  {
   "cell_type": "code",
   "execution_count": 41,
   "id": "d7b5eab5",
   "metadata": {},
   "outputs": [],
   "source": [
    "n_p, A_1, A_2, A_l, F_p, P_O2, P_O2ref_p, P_O2ref_l, R, T, T_ref, n_l, e, E_1, E_2, E_l  = sympy.symbols(\"n_p, A_1, A_2, A_l, F_p, P_O2, P_{O2}^{ref\\,p}, P_O2^{ref\\,l}, R, T, T_ref, n_l, e, E_1, E_2, E_l \")"
   ]
  },
  {
   "cell_type": "code",
   "execution_count": 42,
   "id": "3b5ef1e5",
   "metadata": {},
   "outputs": [
    {
     "data": {
      "text/latex": [
       "$\\displaystyle F_{p} \\left(\\frac{P_{O2}}{P_{O2}^{ref,p}}\\right)^{n_{p}} \\left(A_{1} e^{- \\frac{E_{1}}{R T}} + A_{2} e^{- \\frac{E_{2}}{R T}}\\right)$"
      ],
      "text/plain": [
       "                       ⎛    -E₁        -E₂ ⎞\n",
       "                    nₚ ⎜    ────       ────⎟\n",
       "   ⎛      P_O2     ⎞   ⎜    R⋅T        R⋅T ⎟\n",
       "Fₚ⋅⎜───────────────⎟  ⋅⎝A₁⋅e     + A₂⋅e    ⎠\n",
       "   ⎝P_{O2}__{ref,p}⎠                        "
      ]
     },
     "metadata": {},
     "output_type": "display_data"
    },
    {
     "data": {
      "text/latex": [
       "$\\displaystyle A_{l} e^{- \\frac{E_{l} \\left(- \\frac{1}{T_{ref}} + \\frac{1}{T}\\right)}{R}} \\left(\\frac{P_{O2}}{P_O2^{ref,l}}\\right)^{n_{l}}$"
      ],
      "text/plain": [
       "        ⎛    1     1⎞                   \n",
       "    -Eₗ⋅⎜- ───── + ─⎟                   \n",
       "        ⎝  T_ref   T⎠                   \n",
       "    ──────────────────                nₗ\n",
       "            R          ⎛     P_O2    ⎞  \n",
       "Aₗ⋅e                  ⋅⎜─────────────⎟  \n",
       "                       ⎝P_O2__{ref,l}⎠  "
      ]
     },
     "metadata": {},
     "output_type": "display_data"
    }
   ],
   "source": [
    "# the expression for k_p, eqn (4-3)\n",
    "k_p_expr = F_p*(P_O2/P_O2ref_p)**n_p*(A_1*e**-(E_1/R/T) + A_2*e**-(E_2/R/T))\n",
    "display(k_p_expr)\n",
    "\n",
    "# the expression for k_l, eqn (4-4)\n",
    "k_l_expr = A_l*(P_O2/P_O2ref_l)**n_l*e**(-E_l/R*(1/T - 1/T_ref))\n",
    "display(k_l_expr)"
   ]
  },
  {
   "cell_type": "code",
   "execution_count": 43,
   "id": "317f1ef3",
   "metadata": {},
   "outputs": [
    {
     "data": {
      "text/latex": [
       "$\\displaystyle \\frac{\\sqrt{4 F_{p} \\left(\\frac{P_{O2}}{P_{O2}^{ref,p}}\\right)^{n_{p}} \\left(t - t_{0}\\right) \\left(A_{1} e^{- \\frac{E_{1}}{R T}} + A_{2} e^{- \\frac{E_{2}}{R T}}\\right) + \\frac{F_{p}^{2} e^{\\frac{2 E_{l} \\left(- \\frac{1}{T_{ref}} + \\frac{1}{T}\\right)}{R}} \\left(\\frac{P_{O2}}{P_O2^{ref,l}}\\right)^{- 2 n_{l}} \\left(\\frac{P_{O2}}{P_{O2}^{ref,p}}\\right)^{2 n_{p}} \\left(A_{1} e^{- \\frac{E_{1}}{R T}} + A_{2} e^{- \\frac{E_{2}}{R T}}\\right)^{2}}{A_{l}^{2}}}}{2} - \\frac{F_{p} e^{\\frac{E_{l} \\left(- \\frac{1}{T_{ref}} + \\frac{1}{T}\\right)}{R}} \\left(\\frac{P_{O2}}{P_O2^{ref,l}}\\right)^{- n_{l}} \\left(\\frac{P_{O2}}{P_{O2}^{ref,p}}\\right)^{n_{p}} \\left(A_{1} e^{- \\frac{E_{1}}{R T}} + A_{2} e^{- \\frac{E_{2}}{R T}}\\right)}{2 A_{l}}$"
      ],
      "text/plain": [
       "           _____________________________________________________________________________________________\n",
       "          ╱                                                                     ⎛    1     1⎞           \n",
       "         ╱                                                                 2⋅Eₗ⋅⎜- ───── + ─⎟           \n",
       "        ╱                                                                       ⎝  T_ref   T⎠           \n",
       "       ╱                                                                   ──────────────────           \n",
       "      ╱                                       ⎛    -E₁        -E₂ ⎞     2          R          ⎛     P_O2\n",
       "     ╱                            nₚ          ⎜    ────       ────⎟   Fₚ ⋅e                  ⋅⎜─────────\n",
       "    ╱            ⎛      P_O2     ⎞            ⎜    R⋅T        R⋅T ⎟                           ⎝P_O2__{re\n",
       "   ╱        4⋅Fₚ⋅⎜───────────────⎟  ⋅(t - t₀)⋅⎝A₁⋅e     + A₂⋅e    ⎠ + ──────────────────────────────────\n",
       "  ╱              ⎝P_{O2}__{ref,p}⎠                                                                      \n",
       "╲╱                                                                                                      \n",
       "────────────────────────────────────────────────────────────────────────────────────────────────────────\n",
       "                                                                               2                        \n",
       "\n",
       "________________________________________________________                                                \n",
       "                                                                                                        \n",
       "                                                      2                                                 \n",
       "                                 ⎛    -E₁        -E₂ ⎞                                                  \n",
       "     -2⋅nₗ                  2⋅nₚ ⎜    ────       ────⎟            ⎛    1     1⎞                         \n",
       "    ⎞      ⎛      P_O2     ⎞     ⎜    R⋅T        R⋅T ⎟         Eₗ⋅⎜- ───── + ─⎟                         \n",
       "────⎟     ⋅⎜───────────────⎟    ⋅⎝A₁⋅e     + A₂⋅e    ⎠            ⎝  T_ref   T⎠                         \n",
       "f,l}⎠      ⎝P_{O2}__{ref,p}⎠                                   ────────────────                -nₗ      \n",
       "───────────────────────────────────────────────────────               R         ⎛     P_O2    ⎞    ⎛    \n",
       "           2                                               Fₚ⋅e                ⋅⎜─────────────⎟   ⋅⎜────\n",
       "         Aₗ                                                                     ⎝P_O2__{ref,l}⎠    ⎝P_{O\n",
       "──────────────────────────────────────────────────────── - ─────────────────────────────────────────────\n",
       "                                                                                                  2⋅Aₗ  \n",
       "\n",
       "                                    \n",
       "                                    \n",
       "                                    \n",
       "                                    \n",
       "                                    \n",
       "                                    \n",
       "               ⎛    -E₁        -E₂ ⎞\n",
       "            nₚ ⎜    ────       ────⎟\n",
       "  P_O2     ⎞   ⎜    R⋅T        R⋅T ⎟\n",
       "───────────⎟  ⋅⎝A₁⋅e     + A₂⋅e    ⎠\n",
       "2}__{ref,p}⎠                        \n",
       "────────────────────────────────────\n",
       "                                    "
      ]
     },
     "metadata": {},
     "output_type": "display_data"
    }
   ],
   "source": [
    "x_substituted = x.subs([(k_p, k_p_expr), (k_l, k_l_expr)])\n",
    "display(x_substituted)"
   ]
  },
  {
   "cell_type": "code",
   "execution_count": 51,
   "id": "edc4033a",
   "metadata": {},
   "outputs": [
    {
     "name": "stdout",
     "output_type": "stream",
     "text": [
      "{A_1: 634, A_2: 0.000867, E_1: 248, E_2: 103, A_l: 1.19e-07, E_l: 27, n_l: 1.04, n_p: 0, F_p: 0.83, e: E, R: 8.31446261815324, P_{O2}^{ref,p}: 21000.0, P_O2^{ref,l}: 100, T_ref: 1173.15, t: 28800, P_O2: 21000.0, T: 1173.15, t_0: 396}\n"
     ]
    },
    {
     "data": {
      "text/latex": [
       "$\\displaystyle 0.879092366371063$"
      ],
      "text/plain": [
       "0.879092366371063"
      ]
     },
     "execution_count": 51,
     "metadata": {},
     "output_type": "execute_result"
    }
   ],
   "source": [
    "# fitted values for both regimes, from table 2-1 and 4-5. Should be independent of experiment.\n",
    "fitted_values = {\n",
    "    #parabolic:\n",
    "    A_1: 634, A_2: 8.67e-4, E_1: 248, E_2:103,\n",
    "    \n",
    "    #linear:\n",
    "    A_l: 1.19e-7, E_l: 27, n_l: 1.04, n_p: 0, F_p: 0.83,\n",
    "    \n",
    "    #universal constants:\n",
    "    e: sympy.E, R: 8.31446261815324\n",
    "}\n",
    "\n",
    "# values constant for all experiments by Bjorck et al\n",
    "experiment_constants = {\n",
    "    P_O2ref_p: 2.1e4,\n",
    "    P_O2ref_l: 100,\n",
    "    T_ref: 1173.15,\n",
    "    t: 28800\n",
    "}\n",
    "\n",
    "experiment_values = {\n",
    "    # conditions for each of the experiments performed by Bjorck et al. \n",
    "    # Key is the two-character code they used, value is a dict of conditons\n",
    "    \"1A\": {\n",
    "        P_O2: 2.1e4,\n",
    "        T: 543.15,\n",
    "        t_0: 350 # no time offset specified for this experiment, taking 350 to be roughly between the other offsets\n",
    "    },\n",
    "    \n",
    "    \"1B\": {\n",
    "        P_O2: 2.1e4,\n",
    "        T: 1173.15,\n",
    "        t_0: 396\n",
    "    }\n",
    "}\n",
    "\n",
    "all_conditions = {**fitted_values, **experiment_constants, **(experiment_values[\"1B\"])}\n",
    "print(all_conditions)\n",
    "\n",
    "x_substituted.evalf(subs=all_conditions)"
   ]
  },
  {
   "cell_type": "code",
   "execution_count": 50,
   "id": "d7b28324",
   "metadata": {},
   "outputs": [
    {
     "data": {
      "text/latex": [
       "$\\displaystyle 28800$"
      ],
      "text/plain": [
       "28800"
      ]
     },
     "execution_count": 50,
     "metadata": {},
     "output_type": "execute_result"
    }
   ],
   "source": [
    "8*60*60"
   ]
  }
 ],
 "metadata": {
  "kernelspec": {
   "display_name": "symbev",
   "language": "python",
   "name": "symbev"
  },
  "language_info": {
   "codemirror_mode": {
    "name": "ipython",
    "version": 3
   },
   "file_extension": ".py",
   "mimetype": "text/x-python",
   "name": "python",
   "nbconvert_exporter": "python",
   "pygments_lexer": "ipython3",
   "version": "3.9.7"
  }
 },
 "nbformat": 4,
 "nbformat_minor": 5
}
