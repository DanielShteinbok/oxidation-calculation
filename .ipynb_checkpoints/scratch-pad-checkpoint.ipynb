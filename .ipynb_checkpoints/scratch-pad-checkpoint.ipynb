{
 "cells": [
  {
   "cell_type": "markdown",
   "id": "948e6343",
   "metadata": {},
   "source": [
    "# Scratch Pad\n",
    "I have written two modules, `equations` and `values` to respectively define the equations used by Bjorck et al, and to provide the experimental conditions and values used for their experimental setups and which can be custom-defined. `first-investigation.ipynb` looked at the equations themselves and developed all of this logically, after which I transferred those equations to the aforementioned modules. This is simply a \"scratch pad\" to use those modules and test their validity, as well as to calculate things for the future."
   ]
  },
  {
   "cell_type": "code",
   "execution_count": 1,
   "id": "d6b0d86e",
   "metadata": {},
   "outputs": [],
   "source": [
    "import sympy\n",
    "import values\n",
    "import equations\n",
    "import matplotlib.pyplot as plt\n",
    "import numpy\n",
    "\n",
    "from sympy.physics.units import second, pascal, gram, cm, kelvin"
   ]
  },
  {
   "cell_type": "code",
   "execution_count": 2,
   "id": "873151a1",
   "metadata": {},
   "outputs": [],
   "source": [
    "def plotMassGain(code):\n",
    "    times = range(0, 8*60*60, 1000)\n",
    "    massGain = []\n",
    "    for time in times:\n",
    "        massGain.append(values.getMassGain(code, t=time*second)/gram*cm**2)\n",
    "    plt.plot(times, massGain)\n",
    "    conditions = values.getExperimentConds(code)\n",
    "    plt.title(\"Pressure: \" + str(conditions[equations.P_O2]/pascal) + \", Temperature: \" + str(conditions[equations.T]/kelvin))\n",
    "    plt.show()"
   ]
  },
  {
   "cell_type": "code",
   "execution_count": 7,
   "id": "5517956c",
   "metadata": {},
   "outputs": [],
   "source": [
    "def plotMassGainNumpy(code):\n",
    "    times = numpy.arange(0, 8*60*60, 1000)\n",
    "    lamfunc, finalUnits = values.getMassGainNumpyLambda(code)\n",
    "    plt.plot(times, lamfunc(times))\n",
    "    conditions = values.getExperimentConds(code)\n",
    "    plt.title(\"Pressure: \" + str(conditions[equations.P_O2]/pascal) + \", Temperature: \" + str(conditions[equations.T]/kelvin))\n",
    "    plt.show()"
   ]
  },
  {
   "cell_type": "code",
   "execution_count": 8,
   "id": "c9fbf79d",
   "metadata": {},
   "outputs": [
    {
     "name": "stdout",
     "output_type": "stream",
     "text": [
      "(634, gram**2/(centimeter**4*second))\n",
      "(0.000867000000000000, gram**2/(centimeter**4*second))\n",
      "(248000.000000000, joule/mole)\n",
      "(103000.000000000, joule/mole)\n",
      "(1.19000000000000e-7, gram/(centimeter**2*second))\n",
      "(27000.0000000000, joule/mole)\n",
      "1.04\n",
      "0\n",
      "0.83\n",
      "2.718281828459045\n",
      "(8.31446261815324, joule/(kelvin*mole))\n",
      "(21000.0000000000, pascal)\n",
      "(100, pascal)\n",
      "(1173.15000000000, kelvin)\n",
      "(28800, second)\n",
      "(21000.0000000000, pascal)\n",
      "(1173.15000000000, kelvin)\n",
      "(396, second)\n"
     ]
    },
    {
     "ename": "ValueError",
     "evalue": "x and y must have same first dimension, but have shapes (29,) and (1,)",
     "output_type": "error",
     "traceback": [
      "\u001b[0;31m---------------------------------------------------------------------------\u001b[0m",
      "\u001b[0;31mValueError\u001b[0m                                Traceback (most recent call last)",
      "\u001b[0;32m/tmp/ipykernel_81648/2566255318.py\u001b[0m in \u001b[0;36m<module>\u001b[0;34m\u001b[0m\n\u001b[1;32m      1\u001b[0m \u001b[0mexperimentCodes\u001b[0m \u001b[0;34m=\u001b[0m \u001b[0;34m[\u001b[0m\u001b[0;34m\"1B\"\u001b[0m\u001b[0;34m,\u001b[0m \u001b[0;34m\"2B\"\u001b[0m\u001b[0;34m,\u001b[0m \u001b[0;34m\"3B\"\u001b[0m\u001b[0;34m,\u001b[0m \u001b[0;34m\"3E\"\u001b[0m\u001b[0;34m,\u001b[0m \u001b[0;34m\"3D\"\u001b[0m\u001b[0;34m,\u001b[0m \u001b[0;34m\"4B\"\u001b[0m\u001b[0;34m]\u001b[0m\u001b[0;34m\u001b[0m\u001b[0;34m\u001b[0m\u001b[0m\n\u001b[1;32m      2\u001b[0m \u001b[0;32mfor\u001b[0m \u001b[0mcode\u001b[0m \u001b[0;32min\u001b[0m \u001b[0mexperimentCodes\u001b[0m\u001b[0;34m:\u001b[0m\u001b[0;34m\u001b[0m\u001b[0;34m\u001b[0m\u001b[0m\n\u001b[0;32m----> 3\u001b[0;31m     \u001b[0mplotMassGainNumpy\u001b[0m\u001b[0;34m(\u001b[0m\u001b[0mcode\u001b[0m\u001b[0;34m)\u001b[0m\u001b[0;34m\u001b[0m\u001b[0;34m\u001b[0m\u001b[0m\n\u001b[0m",
      "\u001b[0;32m/tmp/ipykernel_81648/3892264753.py\u001b[0m in \u001b[0;36mplotMassGainNumpy\u001b[0;34m(code)\u001b[0m\n\u001b[1;32m      2\u001b[0m     \u001b[0mtimes\u001b[0m \u001b[0;34m=\u001b[0m \u001b[0mnumpy\u001b[0m\u001b[0;34m.\u001b[0m\u001b[0marange\u001b[0m\u001b[0;34m(\u001b[0m\u001b[0;36m0\u001b[0m\u001b[0;34m,\u001b[0m \u001b[0;36m8\u001b[0m\u001b[0;34m*\u001b[0m\u001b[0;36m60\u001b[0m\u001b[0;34m*\u001b[0m\u001b[0;36m60\u001b[0m\u001b[0;34m,\u001b[0m \u001b[0;36m1000\u001b[0m\u001b[0;34m)\u001b[0m\u001b[0;34m\u001b[0m\u001b[0;34m\u001b[0m\u001b[0m\n\u001b[1;32m      3\u001b[0m     \u001b[0mlamfunc\u001b[0m\u001b[0;34m,\u001b[0m \u001b[0mfinalUnits\u001b[0m \u001b[0;34m=\u001b[0m \u001b[0mvalues\u001b[0m\u001b[0;34m.\u001b[0m\u001b[0mgetMassGainNumpyLambda\u001b[0m\u001b[0;34m(\u001b[0m\u001b[0mcode\u001b[0m\u001b[0;34m)\u001b[0m\u001b[0;34m\u001b[0m\u001b[0;34m\u001b[0m\u001b[0m\n\u001b[0;32m----> 4\u001b[0;31m     \u001b[0mplt\u001b[0m\u001b[0;34m.\u001b[0m\u001b[0mplot\u001b[0m\u001b[0;34m(\u001b[0m\u001b[0mtimes\u001b[0m\u001b[0;34m,\u001b[0m \u001b[0mlamfunc\u001b[0m\u001b[0;34m(\u001b[0m\u001b[0mtimes\u001b[0m\u001b[0;34m)\u001b[0m\u001b[0;34m)\u001b[0m\u001b[0;34m\u001b[0m\u001b[0;34m\u001b[0m\u001b[0m\n\u001b[0m\u001b[1;32m      5\u001b[0m     \u001b[0mconditions\u001b[0m \u001b[0;34m=\u001b[0m \u001b[0mvalues\u001b[0m\u001b[0;34m.\u001b[0m\u001b[0mgetExperimentConds\u001b[0m\u001b[0;34m(\u001b[0m\u001b[0mcode\u001b[0m\u001b[0;34m)\u001b[0m\u001b[0;34m\u001b[0m\u001b[0;34m\u001b[0m\u001b[0m\n\u001b[1;32m      6\u001b[0m     \u001b[0mplt\u001b[0m\u001b[0;34m.\u001b[0m\u001b[0mtitle\u001b[0m\u001b[0;34m(\u001b[0m\u001b[0;34m\"Pressure: \"\u001b[0m \u001b[0;34m+\u001b[0m \u001b[0mstr\u001b[0m\u001b[0;34m(\u001b[0m\u001b[0mconditions\u001b[0m\u001b[0;34m[\u001b[0m\u001b[0mequations\u001b[0m\u001b[0;34m.\u001b[0m\u001b[0mP_O2\u001b[0m\u001b[0;34m]\u001b[0m\u001b[0;34m/\u001b[0m\u001b[0mpascal\u001b[0m\u001b[0;34m)\u001b[0m \u001b[0;34m+\u001b[0m \u001b[0;34m\", Temperature: \"\u001b[0m \u001b[0;34m+\u001b[0m \u001b[0mstr\u001b[0m\u001b[0;34m(\u001b[0m\u001b[0mconditions\u001b[0m\u001b[0;34m[\u001b[0m\u001b[0mequations\u001b[0m\u001b[0;34m.\u001b[0m\u001b[0mT\u001b[0m\u001b[0;34m]\u001b[0m\u001b[0;34m/\u001b[0m\u001b[0mkelvin\u001b[0m\u001b[0;34m)\u001b[0m\u001b[0;34m)\u001b[0m\u001b[0;34m\u001b[0m\u001b[0;34m\u001b[0m\u001b[0m\n",
      "\u001b[0;32m~/anaconda3/envs/symbenv/lib/python3.9/site-packages/matplotlib/pyplot.py\u001b[0m in \u001b[0;36mplot\u001b[0;34m(scalex, scaley, data, *args, **kwargs)\u001b[0m\n\u001b[1;32m   2755\u001b[0m \u001b[0;34m@\u001b[0m\u001b[0m_copy_docstring_and_deprecators\u001b[0m\u001b[0;34m(\u001b[0m\u001b[0mAxes\u001b[0m\u001b[0;34m.\u001b[0m\u001b[0mplot\u001b[0m\u001b[0;34m)\u001b[0m\u001b[0;34m\u001b[0m\u001b[0;34m\u001b[0m\u001b[0m\n\u001b[1;32m   2756\u001b[0m \u001b[0;32mdef\u001b[0m \u001b[0mplot\u001b[0m\u001b[0;34m(\u001b[0m\u001b[0;34m*\u001b[0m\u001b[0margs\u001b[0m\u001b[0;34m,\u001b[0m \u001b[0mscalex\u001b[0m\u001b[0;34m=\u001b[0m\u001b[0;32mTrue\u001b[0m\u001b[0;34m,\u001b[0m \u001b[0mscaley\u001b[0m\u001b[0;34m=\u001b[0m\u001b[0;32mTrue\u001b[0m\u001b[0;34m,\u001b[0m \u001b[0mdata\u001b[0m\u001b[0;34m=\u001b[0m\u001b[0;32mNone\u001b[0m\u001b[0;34m,\u001b[0m \u001b[0;34m**\u001b[0m\u001b[0mkwargs\u001b[0m\u001b[0;34m)\u001b[0m\u001b[0;34m:\u001b[0m\u001b[0;34m\u001b[0m\u001b[0;34m\u001b[0m\u001b[0m\n\u001b[0;32m-> 2757\u001b[0;31m     return gca().plot(\n\u001b[0m\u001b[1;32m   2758\u001b[0m         \u001b[0;34m*\u001b[0m\u001b[0margs\u001b[0m\u001b[0;34m,\u001b[0m \u001b[0mscalex\u001b[0m\u001b[0;34m=\u001b[0m\u001b[0mscalex\u001b[0m\u001b[0;34m,\u001b[0m \u001b[0mscaley\u001b[0m\u001b[0;34m=\u001b[0m\u001b[0mscaley\u001b[0m\u001b[0;34m,\u001b[0m\u001b[0;34m\u001b[0m\u001b[0;34m\u001b[0m\u001b[0m\n\u001b[1;32m   2759\u001b[0m         **({\"data\": data} if data is not None else {}), **kwargs)\n",
      "\u001b[0;32m~/anaconda3/envs/symbenv/lib/python3.9/site-packages/matplotlib/axes/_axes.py\u001b[0m in \u001b[0;36mplot\u001b[0;34m(self, scalex, scaley, data, *args, **kwargs)\u001b[0m\n\u001b[1;32m   1630\u001b[0m         \"\"\"\n\u001b[1;32m   1631\u001b[0m         \u001b[0mkwargs\u001b[0m \u001b[0;34m=\u001b[0m \u001b[0mcbook\u001b[0m\u001b[0;34m.\u001b[0m\u001b[0mnormalize_kwargs\u001b[0m\u001b[0;34m(\u001b[0m\u001b[0mkwargs\u001b[0m\u001b[0;34m,\u001b[0m \u001b[0mmlines\u001b[0m\u001b[0;34m.\u001b[0m\u001b[0mLine2D\u001b[0m\u001b[0;34m)\u001b[0m\u001b[0;34m\u001b[0m\u001b[0;34m\u001b[0m\u001b[0m\n\u001b[0;32m-> 1632\u001b[0;31m         \u001b[0mlines\u001b[0m \u001b[0;34m=\u001b[0m \u001b[0;34m[\u001b[0m\u001b[0;34m*\u001b[0m\u001b[0mself\u001b[0m\u001b[0;34m.\u001b[0m\u001b[0m_get_lines\u001b[0m\u001b[0;34m(\u001b[0m\u001b[0;34m*\u001b[0m\u001b[0margs\u001b[0m\u001b[0;34m,\u001b[0m \u001b[0mdata\u001b[0m\u001b[0;34m=\u001b[0m\u001b[0mdata\u001b[0m\u001b[0;34m,\u001b[0m \u001b[0;34m**\u001b[0m\u001b[0mkwargs\u001b[0m\u001b[0;34m)\u001b[0m\u001b[0;34m]\u001b[0m\u001b[0;34m\u001b[0m\u001b[0;34m\u001b[0m\u001b[0m\n\u001b[0m\u001b[1;32m   1633\u001b[0m         \u001b[0;32mfor\u001b[0m \u001b[0mline\u001b[0m \u001b[0;32min\u001b[0m \u001b[0mlines\u001b[0m\u001b[0;34m:\u001b[0m\u001b[0;34m\u001b[0m\u001b[0;34m\u001b[0m\u001b[0m\n\u001b[1;32m   1634\u001b[0m             \u001b[0mself\u001b[0m\u001b[0;34m.\u001b[0m\u001b[0madd_line\u001b[0m\u001b[0;34m(\u001b[0m\u001b[0mline\u001b[0m\u001b[0;34m)\u001b[0m\u001b[0;34m\u001b[0m\u001b[0;34m\u001b[0m\u001b[0m\n",
      "\u001b[0;32m~/anaconda3/envs/symbenv/lib/python3.9/site-packages/matplotlib/axes/_base.py\u001b[0m in \u001b[0;36m__call__\u001b[0;34m(self, data, *args, **kwargs)\u001b[0m\n\u001b[1;32m    310\u001b[0m                 \u001b[0mthis\u001b[0m \u001b[0;34m+=\u001b[0m \u001b[0margs\u001b[0m\u001b[0;34m[\u001b[0m\u001b[0;36m0\u001b[0m\u001b[0;34m]\u001b[0m\u001b[0;34m,\u001b[0m\u001b[0;34m\u001b[0m\u001b[0;34m\u001b[0m\u001b[0m\n\u001b[1;32m    311\u001b[0m                 \u001b[0margs\u001b[0m \u001b[0;34m=\u001b[0m \u001b[0margs\u001b[0m\u001b[0;34m[\u001b[0m\u001b[0;36m1\u001b[0m\u001b[0;34m:\u001b[0m\u001b[0;34m]\u001b[0m\u001b[0;34m\u001b[0m\u001b[0;34m\u001b[0m\u001b[0m\n\u001b[0;32m--> 312\u001b[0;31m             \u001b[0;32myield\u001b[0m \u001b[0;32mfrom\u001b[0m \u001b[0mself\u001b[0m\u001b[0;34m.\u001b[0m\u001b[0m_plot_args\u001b[0m\u001b[0;34m(\u001b[0m\u001b[0mthis\u001b[0m\u001b[0;34m,\u001b[0m \u001b[0mkwargs\u001b[0m\u001b[0;34m)\u001b[0m\u001b[0;34m\u001b[0m\u001b[0;34m\u001b[0m\u001b[0m\n\u001b[0m\u001b[1;32m    313\u001b[0m \u001b[0;34m\u001b[0m\u001b[0m\n\u001b[1;32m    314\u001b[0m     \u001b[0;32mdef\u001b[0m \u001b[0mget_next_color\u001b[0m\u001b[0;34m(\u001b[0m\u001b[0mself\u001b[0m\u001b[0;34m)\u001b[0m\u001b[0;34m:\u001b[0m\u001b[0;34m\u001b[0m\u001b[0;34m\u001b[0m\u001b[0m\n",
      "\u001b[0;32m~/anaconda3/envs/symbenv/lib/python3.9/site-packages/matplotlib/axes/_base.py\u001b[0m in \u001b[0;36m_plot_args\u001b[0;34m(self, tup, kwargs, return_kwargs)\u001b[0m\n\u001b[1;32m    496\u001b[0m \u001b[0;34m\u001b[0m\u001b[0m\n\u001b[1;32m    497\u001b[0m         \u001b[0;32mif\u001b[0m \u001b[0mx\u001b[0m\u001b[0;34m.\u001b[0m\u001b[0mshape\u001b[0m\u001b[0;34m[\u001b[0m\u001b[0;36m0\u001b[0m\u001b[0;34m]\u001b[0m \u001b[0;34m!=\u001b[0m \u001b[0my\u001b[0m\u001b[0;34m.\u001b[0m\u001b[0mshape\u001b[0m\u001b[0;34m[\u001b[0m\u001b[0;36m0\u001b[0m\u001b[0;34m]\u001b[0m\u001b[0;34m:\u001b[0m\u001b[0;34m\u001b[0m\u001b[0;34m\u001b[0m\u001b[0m\n\u001b[0;32m--> 498\u001b[0;31m             raise ValueError(f\"x and y must have same first dimension, but \"\n\u001b[0m\u001b[1;32m    499\u001b[0m                              f\"have shapes {x.shape} and {y.shape}\")\n\u001b[1;32m    500\u001b[0m         \u001b[0;32mif\u001b[0m \u001b[0mx\u001b[0m\u001b[0;34m.\u001b[0m\u001b[0mndim\u001b[0m \u001b[0;34m>\u001b[0m \u001b[0;36m2\u001b[0m \u001b[0;32mor\u001b[0m \u001b[0my\u001b[0m\u001b[0;34m.\u001b[0m\u001b[0mndim\u001b[0m \u001b[0;34m>\u001b[0m \u001b[0;36m2\u001b[0m\u001b[0;34m:\u001b[0m\u001b[0;34m\u001b[0m\u001b[0;34m\u001b[0m\u001b[0m\n",
      "\u001b[0;31mValueError\u001b[0m: x and y must have same first dimension, but have shapes (29,) and (1,)"
     ]
    },
    {
     "data": {
      "image/png": "[encoded data removed]",
      "text/plain": [
       "<Figure size 432x288 with 1 Axes>"
      ]
     },
     "metadata": {
      "needs_background": "light"
     },
     "output_type": "display_data"
    }
   ],
   "source": [
    "experimentCodes = [\"1B\", \"2B\", \"3B\", \"3E\", \"3D\", \"4B\"]\n",
    "for code in experimentCodes:\n",
    "    plotMassGainNumpy(code)"
   ]
  },
  {
   "cell_type": "code",
   "execution_count": 18,
   "id": "f9377598",
   "metadata": {},
   "outputs": [
    {
     "name": "stdout",
     "output_type": "stream",
     "text": [
      "(634, gram**2/(centimeter**4*second))\n",
      "(0.000867000000000000, gram**2/(centimeter**4*second))\n",
      "(248000.000000000, joule/mole)\n",
      "(103000.000000000, joule/mole)\n",
      "(1.19000000000000e-7, gram/(centimeter**2*second))\n",
      "(27000.0000000000, joule/mole)\n",
      "1.04\n",
      "0\n",
      "0.83\n",
      "2.718281828459045\n",
      "(8.31446261815324, joule/(kelvin*mole))\n",
      "(21000.0000000000, pascal)\n",
      "(100, pascal)\n",
      "(1173.15000000000, kelvin)\n",
      "(28800, second)\n",
      "(21000.0000000000, pascal)\n",
      "(1173.15000000000, kelvin)\n",
      "(396, second)\n",
      "[    0  1000  2000  3000  4000  5000  6000  7000  8000  9000 10000 11000\n",
      " 12000 13000 14000 15000 16000 17000 18000 19000 20000 21000 22000 23000\n",
      " 24000 25000 26000 27000 28000]\n",
      "0.02578697522472\n"
     ]
    }
   ],
   "source": [
    "times = numpy.arange(0, 8*60*60, 1000)\n",
    "lamfunc, finalUnits = values.getMassGainNumpyLambda(\"1B\")\n",
    "print(times)\n",
    "print(lamfunc(times))"
   ]
  },
  {
   "cell_type": "code",
   "execution_count": null,
   "id": "2b0f518c",
   "metadata": {},
   "outputs": [],
   "source": [
    "values.getMassGain(\"4B\", t=8*60*60*second)"
   ]
  },
  {
   "cell_type": "code",
   "execution_count": null,
   "id": "974a4e4f",
   "metadata": {},
   "outputs": [],
   "source": [
    "values.getMassGain(\"4B\", massCalculator=equations.linearMassGain)"
   ]
  },
  {
   "cell_type": "code",
   "execution_count": null,
   "id": "284d683d",
   "metadata": {},
   "outputs": [],
   "source": [
    "values.getExperimentConds(\"4B\")"
   ]
  },
  {
   "cell_type": "markdown",
   "id": "35976641",
   "metadata": {},
   "source": [
    "## Our experiment\n",
    "In our experiment, we had 10 minutes of 200 Torr $O_2$ at 500 ppm. Here, I try to calculate the oxide formed in these conditions:"
   ]
  },
  {
   "cell_type": "code",
   "execution_count": null,
   "id": "649b717a",
   "metadata": {},
   "outputs": [],
   "source": [
    "# calculate partial pressure at 500 ppm\n",
    "from sympy.physics.units import torr, convert_to\n",
    "O2_pp = 200*torr*500/1e6"
   ]
  },
  {
   "cell_type": "code",
   "execution_count": null,
   "id": "e867b70d",
   "metadata": {},
   "outputs": [],
   "source": [
    "values.getMassGain(\"4B\", t=600*second, P_O2=convert_to(O2_pp, pascal), T=1273.15*kelvin)"
   ]
  },
  {
   "cell_type": "code",
   "execution_count": null,
   "id": "4a3a807c",
   "metadata": {},
   "outputs": [],
   "source": [
    "def getThickness(massGain):\n",
    "    # assume only Cu2O\n",
    "    return"
   ]
  },
  {
   "cell_type": "code",
   "execution_count": null,
   "id": "25f67237",
   "metadata": {},
   "outputs": [],
   "source": [
    "import numpy\n",
    "equations.getMassGainTimeLambda(values.getExperimentConds(\"1B\"), modules=numpy)"
   ]
  },
  {
   "cell_type": "code",
   "execution_count": null,
   "id": "da017adb",
   "metadata": {},
   "outputs": [],
   "source": [
    "values.getExperimentConds(\"1B\")"
   ]
  }
 ],
 "metadata": {
  "kernelspec": {
   "display_name": "symbev",
   "language": "python",
   "name": "symbev"
  },
  "language_info": {
   "codemirror_mode": {
    "name": "ipython",
    "version": 3
   },
   "file_extension": ".py",
   "mimetype": "text/x-python",
   "name": "python",
   "nbconvert_exporter": "python",
   "pygments_lexer": "ipython3",
   "version": "3.9.7"
  }
 },
 "nbformat": 4,
 "nbformat_minor": 5
}
