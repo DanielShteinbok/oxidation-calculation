{
 "cells": [
  {
   "cell_type": "markdown",
   "id": "913550d7",
   "metadata": {},
   "source": [
    "# Scratch Pad\n",
    "I have written two modules, `equations` and `values` to respectively define the equations used by Bjorck et al, and to provide the experimental conditions and values used for their experimental setups and which can be custom-defined. `first-investigation.ipynb` looked at the equations themselves and developed all of this logically, after which I transferred those equations to the aforementioned modules. This is simply a \"scratch pad\" to use those modules and test their validity, as well as to calculate things for the future."
   ]
  },
  {
   "cell_type": "code",
   "execution_count": 15,
   "id": "60ca7ba8",
   "metadata": {},
   "outputs": [],
   "source": [
    "import sympy\n",
    "import values\n",
    "import equations\n",
    "\n",
    "from sympy.physics.units import second, pascal"
   ]
  },
  {
   "cell_type": "code",
   "execution_count": 16,
   "id": "dacb8f2f",
   "metadata": {},
   "outputs": [
    {
     "data": {
      "text/latex": [
       "$\\displaystyle \\frac{0.0017136 \\text{g}}{\\text{cm}^{2}}$"
      ],
      "text/plain": [
       "0.0017136*gram/centimeter**2"
      ]
     },
     "execution_count": 16,
     "metadata": {},
     "output_type": "execute_result"
    }
   ],
   "source": [
    "values.getMassGain(\"3B\", massCalculator=equations.linearMassGain, t=4*60*60*second, P_O2=100*pascal)"
   ]
  }
 ],
 "metadata": {
  "kernelspec": {
   "display_name": "symbev",
   "language": "python",
   "name": "symbev"
  },
  "language_info": {
   "codemirror_mode": {
    "name": "ipython",
    "version": 3
   },
   "file_extension": ".py",
   "mimetype": "text/x-python",
   "name": "python",
   "nbconvert_exporter": "python",
   "pygments_lexer": "ipython3",
   "version": "3.9.7"
  }
 },
 "nbformat": 4,
 "nbformat_minor": 5
}
