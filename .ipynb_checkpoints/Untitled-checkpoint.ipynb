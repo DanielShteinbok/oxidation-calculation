{
 "cells": [
  {
   "cell_type": "markdown",
   "id": "5e0b6d85",
   "metadata": {},
   "source": [
    "# Oxidation Kinetics of Copper Inside LP-CVD Chamber\n",
    "\n",
    "## Introduction and Literature Review\n",
    "Bjorck et al. have proposed a model for the kinetics of copper oxidation under low partial pressures of oxygen (Bjorck et al. 2013). In their model to predict mass gain due to oxidation at low partial pressure of oxygen, the Bjorck et al. considered two terms: one representing linear mass gain as a function of time; the other representing parabolic mass gain as a function of time. In their model, they found that depending on temperature and partial pressure conditions, either the linear or parabolic term would dominate. Their model, based on  Wagner and Grünewald (1938) as well as Rönnqvist and Fischmeister (1961), modeled the mass gain, $x$, as a function of time, $t$:\n",
    "\n",
    "$$\\frac{x}{k_l} + \\frac{x^2}{k_p} = t + t_0$$\n",
    "\n"
   ]
  },
  {
   "cell_type": "markdown",
   "id": "4c5313d8",
   "metadata": {},
   "source": [
    "# TODO:\n",
    "* write equations for $k_l$ and $k_p$, and then see if you can just go ahead and calculate the whole monster in one go\n",
    "* write equation for R, and allow for values to be plugged in after the fact to show that the linear regime is a good approximation"
   ]
  },
  {
   "cell_type": "markdown",
   "id": "f9d6c8d2",
   "metadata": {},
   "source": [
    "## Dependencies:\n",
    "* Sympy\n",
    "* numpy\n",
    "* ipykernel\n",
    "* matplotlib\n",
    "\n",
    "I use an Anaconda environment with sympy and ipykernel installed. This by default pretty-prints all expressions in latex."
   ]
  },
  {
   "cell_type": "code",
   "execution_count": 1,
   "id": "6e2363dd",
   "metadata": {},
   "outputs": [],
   "source": [
    "import sympy\n",
    "sympy.init_printing()"
   ]
  },
  {
   "cell_type": "markdown",
   "id": "285ced06",
   "metadata": {},
   "source": [
    "## Writing the overall equation for mass gain\n",
    "First, let's write out the overall equation for x. This is the same as equation (4-2) in the paper, with the exception that I changed the $\\pm$ to just a $+$, because they say to discard the negative solution (and the $+$ replacing the $\\pm$ should always give a larger value. **NOTE:** it may not always be the case that a $-$ instead of the $\\pm$ will give a negative value; I should check this)"
   ]
  },
  {
   "cell_type": "code",
   "execution_count": 2,
   "id": "68ae737c",
   "metadata": {},
   "outputs": [],
   "source": [
    "k_p, k_l, t, t_0 = sympy.symbols(\"k_p, k_l, t, t_0\")"
   ]
  },
  {
   "cell_type": "code",
   "execution_count": 3,
   "id": "789df850",
   "metadata": {},
   "outputs": [],
   "source": [
    "x = sympy.Rational(1/2)*(-k_p/k_l + sympy.sqrt((k_p/k_l)**2 + 4*k_p*(t + t_0)))"
   ]
  },
  {
   "cell_type": "code",
   "execution_count": 4,
   "id": "98266daa",
   "metadata": {},
   "outputs": [
    {
     "data": {
      "text/latex": [
       "$\\displaystyle \\frac{\\sqrt{4 k_{p} \\left(t + t_{0}\\right) + \\frac{k_{p}^{2}}{k_{l}^{2}}}}{2} - \\frac{k_{p}}{2 k_{l}}$"
      ],
      "text/plain": [
       "      _____________________       \n",
       "     ╱                   2        \n",
       "    ╱                  kₚ         \n",
       "   ╱   4⋅kₚ⋅(t + t₀) + ───        \n",
       "  ╱                      2        \n",
       "╲╱                     kₗ      kₚ \n",
       "─────────────────────────── - ────\n",
       "             2                2⋅kₗ"
      ]
     },
     "execution_count": 4,
     "metadata": {},
     "output_type": "execute_result"
    }
   ],
   "source": [
    "x"
   ]
  },
  {
   "cell_type": "code",
   "execution_count": 5,
   "id": "d7b5eab5",
   "metadata": {},
   "outputs": [],
   "source": [
    "n_p, A_1, A_2, A_l, F_p, P_O2, P_O2ref_p, P_O2ref_l, R, T, T_ref, n_l, e, E_1, E_2, E_l  = sympy.symbols(\"n_p, A_1, A_2, A_l, F_p, P_{O_2}, P_{O_2}^{ref\\,p}, P_{O_2}^{ref\\,l}, R, T, T_ref, n_l, e, E_1, E_2, E_l \")"
   ]
  },
  {
   "cell_type": "code",
   "execution_count": 6,
   "id": "3b5ef1e5",
   "metadata": {},
   "outputs": [
    {
     "data": {
      "text/latex": [
       "$\\displaystyle F_{p} \\left(\\frac{P_{O_2}}{P_{O_2}^{ref,p}}\\right)^{n_{p}} \\left(A_{1} e^{- \\frac{E_{1}}{R T}} + A_{2} e^{- \\frac{E_{2}}{R T}}\\right)$"
      ],
      "text/plain": [
       "                        ⎛    -E₁        -E₂ ⎞\n",
       "                     nₚ ⎜    ────       ────⎟\n",
       "   ⎛    P_{O_2}     ⎞   ⎜    R⋅T        R⋅T ⎟\n",
       "Fₚ⋅⎜────────────────⎟  ⋅⎝A₁⋅e     + A₂⋅e    ⎠\n",
       "   ⎝P_{O_2}__{ref,p}⎠                        "
      ]
     },
     "metadata": {},
     "output_type": "display_data"
    },
    {
     "data": {
      "text/latex": [
       "$\\displaystyle A_{l} e^{- \\frac{E_{l} \\left(- \\frac{1}{T_{ref}} + \\frac{1}{T}\\right)}{R}} \\left(\\frac{P_{O_2}}{P_{O_2}^{ref,l}}\\right)^{n_{l}}$"
      ],
      "text/plain": [
       "        ⎛    1     1⎞                      \n",
       "    -Eₗ⋅⎜- ───── + ─⎟                      \n",
       "        ⎝  T_ref   T⎠                      \n",
       "    ──────────────────                   nₗ\n",
       "            R          ⎛    P_{O_2}     ⎞  \n",
       "Aₗ⋅e                  ⋅⎜────────────────⎟  \n",
       "                       ⎝P_{O_2}__{ref,l}⎠  "
      ]
     },
     "metadata": {},
     "output_type": "display_data"
    }
   ],
   "source": [
    "# the expression for k_p, eqn (4-3)\n",
    "k_p_expr = F_p*(P_O2/P_O2ref_p)**n_p*(A_1*e**-(E_1/R/T) + A_2*e**-(E_2/R/T))\n",
    "display(k_p_expr)\n",
    "\n",
    "# the expression for k_l, eqn (4-4)\n",
    "k_l_expr = A_l*(P_O2/P_O2ref_l)**n_l*e**(-E_l/R*(1/T - 1/T_ref))\n",
    "display(k_l_expr)"
   ]
  },
  {
   "cell_type": "code",
   "execution_count": 7,
   "id": "317f1ef3",
   "metadata": {},
   "outputs": [
    {
     "data": {
      "text/latex": [
       "$\\displaystyle \\frac{\\sqrt{4 F_{p} \\left(\\frac{P_{O_2}}{P_{O_2}^{ref,p}}\\right)^{n_{p}} \\left(t + t_{0}\\right) \\left(A_{1} e^{- \\frac{E_{1}}{R T}} + A_{2} e^{- \\frac{E_{2}}{R T}}\\right) + \\frac{F_{p}^{2} e^{\\frac{2 E_{l} \\left(- \\frac{1}{T_{ref}} + \\frac{1}{T}\\right)}{R}} \\left(\\frac{P_{O_2}}{P_{O_2}^{ref,l}}\\right)^{- 2 n_{l}} \\left(\\frac{P_{O_2}}{P_{O_2}^{ref,p}}\\right)^{2 n_{p}} \\left(A_{1} e^{- \\frac{E_{1}}{R T}} + A_{2} e^{- \\frac{E_{2}}{R T}}\\right)^{2}}{A_{l}^{2}}}}{2} - \\frac{F_{p} e^{\\frac{E_{l} \\left(- \\frac{1}{T_{ref}} + \\frac{1}{T}\\right)}{R}} \\left(\\frac{P_{O_2}}{P_{O_2}^{ref,l}}\\right)^{- n_{l}} \\left(\\frac{P_{O_2}}{P_{O_2}^{ref,p}}\\right)^{n_{p}} \\left(A_{1} e^{- \\frac{E_{1}}{R T}} + A_{2} e^{- \\frac{E_{2}}{R T}}\\right)}{2 A_{l}}$"
      ],
      "text/plain": [
       "           __________________________________________________________________________________________________________________________________________________________                                              \n",
       "          ╱                                                                      ⎛    1     1⎞                                                                                                                     \n",
       "         ╱                                                                  2⋅Eₗ⋅⎜- ───── + ─⎟                                                                     2                                               \n",
       "        ╱                                                                        ⎝  T_ref   T⎠                                                ⎛    -E₁        -E₂ ⎞                                                \n",
       "       ╱                                                                    ──────────────────                   -2⋅nₗ                   2⋅nₚ ⎜    ────       ────⎟            ⎛    1     1⎞                       \n",
       "      ╱                                        ⎛    -E₁        -E₂ ⎞     2          R          ⎛    P_{O_2}     ⎞      ⎛    P_{O_2}     ⎞     ⎜    R⋅T        R⋅T ⎟         Eₗ⋅⎜- ───── + ─⎟                       \n",
       "     ╱                             nₚ          ⎜    ────       ────⎟   Fₚ ⋅e                  ⋅⎜────────────────⎟     ⋅⎜────────────────⎟    ⋅⎝A₁⋅e     + A₂⋅e    ⎠            ⎝  T_ref   T⎠                       \n",
       "    ╱            ⎛    P_{O_2}     ⎞            ⎜    R⋅T        R⋅T ⎟                           ⎝P_{O_2}__{ref,l}⎠      ⎝P_{O_2}__{ref,p}⎠                                   ────────────────                   -nₗ \n",
       "   ╱        4⋅Fₚ⋅⎜────────────────⎟  ⋅(t + t₀)⋅⎝A₁⋅e     + A₂⋅e    ⎠ + ─────────────────────────────────────────────────────────────────────────────────────────────               R         ⎛    P_{O_2}     ⎞    \n",
       "  ╱              ⎝P_{O_2}__{ref,p}⎠                                                                                   2                                                 Fₚ⋅e                ⋅⎜────────────────⎟   ⋅\n",
       "╲╱                                                                                                                  Aₗ                                                                       ⎝P_{O_2}__{ref,l}⎠    \n",
       "───────────────────────────────────────────────────────────────────────────────────────────────────────────────────────────────────────────────────────────────────── - ───────────────────────────────────────────\n",
       "                                                                                  2                                                                                                                              2⋅\n",
       "\n",
       "                                          \n",
       "                                          \n",
       "                                          \n",
       "                                          \n",
       "                                          \n",
       "                                          \n",
       "                     ⎛    -E₁        -E₂ ⎞\n",
       "                  nₚ ⎜    ────       ────⎟\n",
       "⎛    P_{O_2}     ⎞   ⎜    R⋅T        R⋅T ⎟\n",
       "⎜────────────────⎟  ⋅⎝A₁⋅e     + A₂⋅e    ⎠\n",
       "⎝P_{O_2}__{ref,p}⎠                        \n",
       "──────────────────────────────────────────\n",
       "Aₗ                                        "
      ]
     },
     "metadata": {},
     "output_type": "display_data"
    }
   ],
   "source": [
    "x_substituted = x.subs([(k_p, k_p_expr), (k_l, k_l_expr)])\n",
    "display(x_substituted)"
   ]
  },
  {
   "cell_type": "code",
   "execution_count": 8,
   "id": "af257227",
   "metadata": {},
   "outputs": [
    {
     "data": {
      "text/latex": [
       "$\\displaystyle 28800$"
      ],
      "text/plain": [
       "28800"
      ]
     },
     "execution_count": 8,
     "metadata": {},
     "output_type": "execute_result"
    }
   ],
   "source": [
    "# calculate the time they kept their sample in, in seconds; they write 8 hours\n",
    "8*60*60"
   ]
  },
  {
   "cell_type": "code",
   "execution_count": 9,
   "id": "edc4033a",
   "metadata": {},
   "outputs": [
    {
     "name": "stdout",
     "output_type": "stream",
     "text": [
      "{A_1: 634*gram**2/(centimeter**4*second), A_2: 0.000867*gram**2/(centimeter**4*second), E_1: 248000.0*joule/mole, E_2: 103000.0*joule/mole, A_l: 1.19e-7*gram/(centimeter**2*second), E_l: 27000.0*joule/mole, n_l: 1.04, n_p: 0, F_p: 0.83, e: 2.718281828459045, R: 8.31446261815324*joule/(kelvin*mole), P_{O_2}^{ref,p}: 21000.0*pascal, P_{O_2}^{ref,l}: 100*pascal, T_ref: 1173.15*kelvin, t: 28800*second, P_{O_2}: 21000.0*pascal, T: 1173.15*kelvin, t_0: 396*second}\n"
     ]
    },
    {
     "data": {
      "text/latex": [
       "$\\displaystyle \\frac{0.02578697522472 \\text{g}}{\\text{cm}^{2}}$"
      ],
      "text/plain": [
       "0.02578697522472⋅gram\n",
       "─────────────────────\n",
       "               2     \n",
       "     centimeter      "
      ]
     },
     "execution_count": 9,
     "metadata": {},
     "output_type": "execute_result"
    }
   ],
   "source": [
    "from sympy.physics.units import gram, mol, second, kelvin, joule, pascal, cm\n",
    "\n",
    "# fitted values for both regimes, from table 2-1 and 4-5. Should be independent of experiment.\n",
    "fitted_values = {\n",
    "    #parabolic:\n",
    "    A_1: 634*gram**2/(cm**4*second), A_2: 8.67e-4*gram**2/(cm**4*second), \n",
    "    E_1: 248e3*joule/mol, E_2:103e3*joule/mol,\n",
    "    \n",
    "    #linear:\n",
    "    A_l: 1.19e-7*gram/cm**2/second, E_l: 27e3*joule/mol, n_l: 1.04, n_p: 0, F_p: 0.83,\n",
    "    \n",
    "    #universal constants:\n",
    "    e: 2.718281828459045, R: 8.31446261815324*joule/kelvin/mol\n",
    "}\n",
    "\n",
    "# values constant for all experiments by Bjorck et al\n",
    "experiment_constants = {\n",
    "    P_O2ref_p: 2.1e4*pascal,\n",
    "    P_O2ref_l: 100*pascal,\n",
    "    T_ref: 1173.15*kelvin,\n",
    "    t: 28800*second #see cell above\n",
    "}\n",
    "\n",
    "experiment_values = {\n",
    "    # conditions for each of the experiments performed by Bjorck et al. \n",
    "    # Key is the two-character code they used, value is a dict of conditons\n",
    "    \"1A\": {\n",
    "        P_O2: 2.1e4,\n",
    "        T: 543.15,\n",
    "        t_0: 350 # no time offset specified for this experiment, taking 350 to be roughly between the other offsets\n",
    "    },\n",
    "    \n",
    "    \"1B\": {\n",
    "        P_O2: 2.1e4*pascal,\n",
    "        T: 1173.15*kelvin,\n",
    "        t_0: 396*second\n",
    "    },\n",
    "    \n",
    "    \"4B\": {\n",
    "        P_O2: 10*pascal,\n",
    "        T: 1173.15*kelvin,\n",
    "        t_0: 0*second\n",
    "    }\n",
    "    \n",
    "}\n",
    "\n",
    "all_conditions = {**fitted_values, **experiment_constants, **(experiment_values[\"1B\"])}\n",
    "print(all_conditions)\n",
    "\n",
    "# calculate the \n",
    "x_substituted.evalf(subs=all_conditions)"
   ]
  },
  {
   "cell_type": "code",
   "execution_count": 10,
   "id": "1c994bf0",
   "metadata": {},
   "outputs": [],
   "source": [
    "# approximate as linear rate law:\n",
    "x_linear = k_l*(t + t_0)\n",
    "x_linear_substituted = x_linear.subs(k_l, k_l_expr)"
   ]
  },
  {
   "cell_type": "code",
   "execution_count": 11,
   "id": "22277079",
   "metadata": {},
   "outputs": [
    {
     "data": {
      "text/latex": [
       "$\\displaystyle A_{l} e^{- \\frac{E_{l} \\left(- \\frac{1}{T_{ref}} + \\frac{1}{T}\\right)}{R}} \\left(\\frac{P_{O_2}}{P_{O_2}^{ref,l}}\\right)^{n_{l}} \\left(t + t_{0}\\right)$"
      ],
      "text/plain": [
       "        ⎛    1     1⎞                               \n",
       "    -Eₗ⋅⎜- ───── + ─⎟                               \n",
       "        ⎝  T_ref   T⎠                               \n",
       "    ──────────────────                   nₗ         \n",
       "            R          ⎛    P_{O_2}     ⎞           \n",
       "Aₗ⋅e                  ⋅⎜────────────────⎟  ⋅(t + t₀)\n",
       "                       ⎝P_{O_2}__{ref,l}⎠           "
      ]
     },
     "execution_count": 11,
     "metadata": {},
     "output_type": "execute_result"
    }
   ],
   "source": [
    "x_linear_substituted"
   ]
  },
  {
   "cell_type": "code",
   "execution_count": 12,
   "id": "8f636b7e",
   "metadata": {},
   "outputs": [
    {
     "data": {
      "text/latex": [
       "$\\displaystyle \\frac{0.02578697522472 \\text{g}}{\\text{cm}^{2}}$"
      ],
      "text/plain": [
       "0.02578697522472⋅gram\n",
       "─────────────────────\n",
       "               2     \n",
       "     centimeter      "
      ]
     },
     "execution_count": 12,
     "metadata": {},
     "output_type": "execute_result"
    }
   ],
   "source": [
    "x_substituted.evalf(subs=all_conditions)"
   ]
  },
  {
   "cell_type": "markdown",
   "id": "d06b7a7e",
   "metadata": {},
   "source": [
    "For experiment 1B, the authors claim to have calculated 18.6 $mg/cm^2$ growth after 8 hours. My result, from simulating the combination of linear and parabolic regimes produces something about 40 times higher, 848 $mg/cm^2$. Approximating with just a linear behaviour gives an even larger (significantly) result: 904 $mg/cm^2$. I suspect that the authors approximated with just the parabolic regime:"
   ]
  },
  {
   "cell_type": "code",
   "execution_count": 13,
   "id": "b4a36808",
   "metadata": {},
   "outputs": [
    {
     "data": {
      "text/latex": [
       "$\\displaystyle \\sqrt{k_{p} \\left(t + t_{0}\\right)} - \\frac{k_{p}}{2 k_{l}}$"
      ],
      "text/plain": [
       "  _____________    kₚ \n",
       "╲╱ kₚ⋅(t + t₀)  - ────\n",
       "                  2⋅kₗ"
      ]
     },
     "execution_count": 13,
     "metadata": {},
     "output_type": "execute_result"
    }
   ],
   "source": [
    "x_parabolic = sympy.sqrt(k_p*(t+t_0)) - sympy.Rational(1/2)*k_p/k_l\n",
    "x_parabolic"
   ]
  },
  {
   "cell_type": "code",
   "execution_count": 14,
   "id": "5b23c2e2",
   "metadata": {},
   "outputs": [
    {
     "data": {
      "text/latex": [
       "$\\displaystyle \\sqrt{F_{p} \\left(\\frac{P_{O_2}}{P_{O_2}^{ref,p}}\\right)^{n_{p}} \\left(t + t_{0}\\right) \\left(A_{1} e^{- \\frac{E_{1}}{R T}} + A_{2} e^{- \\frac{E_{2}}{R T}}\\right)} - \\frac{F_{p} e^{\\frac{E_{l} \\left(- \\frac{1}{T_{ref}} + \\frac{1}{T}\\right)}{R}} \\left(\\frac{P_{O_2}}{P_{O_2}^{ref,l}}\\right)^{- n_{l}} \\left(\\frac{P_{O_2}}{P_{O_2}^{ref,p}}\\right)^{n_{p}} \\left(A_{1} e^{- \\frac{E_{1}}{R T}} + A_{2} e^{- \\frac{E_{2}}{R T}}\\right)}{2 A_{l}}$"
      ],
      "text/plain": [
       "                                                                        ⎛    1     1⎞                                                                 \n",
       "                                                                     Eₗ⋅⎜- ───── + ─⎟                                                                 \n",
       "                                                                        ⎝  T_ref   T⎠                                            ⎛    -E₁        -E₂ ⎞\n",
       "      ________________________________________________________       ────────────────                   -nₗ                   nₚ ⎜    ────       ────⎟\n",
       "     ╱                                  ⎛    -E₁        -E₂ ⎞               R         ⎛    P_{O_2}     ⎞    ⎛    P_{O_2}     ⎞   ⎜    R⋅T        R⋅T ⎟\n",
       "    ╱                       nₚ          ⎜    ────       ────⎟    Fₚ⋅e                ⋅⎜────────────────⎟   ⋅⎜────────────────⎟  ⋅⎝A₁⋅e     + A₂⋅e    ⎠\n",
       "   ╱      ⎛    P_{O_2}     ⎞            ⎜    R⋅T        R⋅T ⎟                         ⎝P_{O_2}__{ref,l}⎠    ⎝P_{O_2}__{ref,p}⎠                        \n",
       "  ╱    Fₚ⋅⎜────────────────⎟  ⋅(t + t₀)⋅⎝A₁⋅e     + A₂⋅e    ⎠  - ─────────────────────────────────────────────────────────────────────────────────────\n",
       "╲╱        ⎝P_{O_2}__{ref,p}⎠                                                                              2⋅Aₗ                                        "
      ]
     },
     "execution_count": 14,
     "metadata": {},
     "output_type": "execute_result"
    }
   ],
   "source": [
    "x_parabolic_substituted = x_parabolic.subs([(k_p, k_p_expr), (k_l, k_l_expr)])\n",
    "x_parabolic_substituted"
   ]
  },
  {
   "cell_type": "code",
   "execution_count": 15,
   "id": "6ed196e8",
   "metadata": {},
   "outputs": [
    {
     "data": {
      "text/latex": [
       "$\\displaystyle \\frac{0.0257842336953041 \\text{g}}{\\text{cm}^{2}}$"
      ],
      "text/plain": [
       "0.0257842336953041⋅gram\n",
       "───────────────────────\n",
       "                2      \n",
       "      centimeter       "
      ]
     },
     "execution_count": 15,
     "metadata": {},
     "output_type": "execute_result"
    }
   ],
   "source": [
    "x_parabolic_substituted.evalf(subs=all_conditions)"
   ]
  },
  {
   "cell_type": "markdown",
   "id": "f4d03280",
   "metadata": {},
   "source": [
    "clearly, approximation via assumption of parabolic regime does not work either. This gives a nonsensical negative value."
   ]
  },
  {
   "cell_type": "code",
   "execution_count": 16,
   "id": "d6746865",
   "metadata": {},
   "outputs": [
    {
     "data": {
      "text/latex": [
       "$\\displaystyle \\frac{4 k_{l}^{2} \\left(t + t_{0}\\right)}{k_{p}}$"
      ],
      "text/plain": [
       "    2         \n",
       "4⋅kₗ ⋅(t + t₀)\n",
       "──────────────\n",
       "      kₚ      "
      ]
     },
     "execution_count": 16,
     "metadata": {},
     "output_type": "execute_result"
    }
   ],
   "source": [
    "# calculate the R value. CAUTION: R is already defined and used as the gas constant.\n",
    "R_expr = 4*k_l**2/k_p*(t+t_0)\n",
    "R_expr"
   ]
  },
  {
   "cell_type": "code",
   "execution_count": 17,
   "id": "35ff3eea",
   "metadata": {},
   "outputs": [
    {
     "data": {
      "text/latex": [
       "$\\displaystyle 4771.35590698157$"
      ],
      "text/plain": [
       "4771.35590698157"
      ]
     },
     "execution_count": 17,
     "metadata": {},
     "output_type": "execute_result"
    }
   ],
   "source": [
    "R_expr.subs([(k_p, k_p_expr), (k_l, k_l_expr)]).evalf(subs=all_conditions)"
   ]
  },
  {
   "cell_type": "markdown",
   "id": "09daf056",
   "metadata": {},
   "source": [
    "Since the $R$ defined by the authors (NOT the gas constant) is about 0.16, linear kinetics should dominate. This would make parabolic approximation inappropriate, and would explain the negative value seen above.\n",
    "\n",
    "**HOWEVER**, The authors specifically place this experiment in the parabolic regime. This means that one of my $k_p$ or $k_l$ values are off; this in turn means that either the equation for one of them is wrong, or the numbers I am substituting in are wrong. "
   ]
  },
  {
   "cell_type": "markdown",
   "id": "a533f62b",
   "metadata": {},
   "source": [
    "Perhaps the problem is the $\\pm$ in equation (4-2)? Check this by identifying whether it is possible that a minus sign instead of $\\pm$ would still give a positive value; check that by checking whether $-k_p/k_l$ is indeed negative. If $-k_p/k_l$ is indeed negative, then the $\\pm$ must be $+$ (as calculated) and this reason for the problem is excluded. "
   ]
  },
  {
   "cell_type": "code",
   "execution_count": 18,
   "id": "21872d85",
   "metadata": {},
   "outputs": [
    {
     "data": {
      "text/latex": [
       "$\\displaystyle - \\frac{F_{p} e^{\\frac{E_{l} \\left(- \\frac{1}{T_{ref}} + \\frac{1}{T}\\right)}{R}} \\left(\\frac{P_{O_2}}{P_{O_2}^{ref,l}}\\right)^{- n_{l}} \\left(\\frac{P_{O_2}}{P_{O_2}^{ref,p}}\\right)^{n_{p}} \\left(A_{1} e^{- \\frac{E_{1}}{R T}} + A_{2} e^{- \\frac{E_{2}}{R T}}\\right)}{A_{l}}$"
      ],
      "text/plain": [
       "        ⎛    1     1⎞                                                                  \n",
       "     Eₗ⋅⎜- ───── + ─⎟                                                                  \n",
       "        ⎝  T_ref   T⎠                                            ⎛    -E₁        -E₂ ⎞ \n",
       "     ────────────────                   -nₗ                   nₚ ⎜    ────       ────⎟ \n",
       "            R         ⎛    P_{O_2}     ⎞    ⎛    P_{O_2}     ⎞   ⎜    R⋅T        R⋅T ⎟ \n",
       "-Fₚ⋅e                ⋅⎜────────────────⎟   ⋅⎜────────────────⎟  ⋅⎝A₁⋅e     + A₂⋅e    ⎠ \n",
       "                      ⎝P_{O_2}__{ref,l}⎠    ⎝P_{O_2}__{ref,p}⎠                         \n",
       "───────────────────────────────────────────────────────────────────────────────────────\n",
       "                                           Aₗ                                          "
      ]
     },
     "metadata": {},
     "output_type": "display_data"
    },
    {
     "data": {
      "text/latex": [
       "$\\displaystyle - \\frac{0.000757524287101073 \\text{g}}{\\text{cm}^{2}}$"
      ],
      "text/plain": [
       "-0.000757524287101073⋅gram \n",
       "───────────────────────────\n",
       "                  2        \n",
       "        centimeter         "
      ]
     },
     "execution_count": 18,
     "metadata": {},
     "output_type": "execute_result"
    }
   ],
   "source": [
    "expr = (-k_p/k_l).subs([(k_p, k_p_expr), (k_l, k_l_expr)])\n",
    "display(expr)\n",
    "expr.evalf(subs=all_conditions)"
   ]
  },
  {
   "cell_type": "markdown",
   "id": "d855ef27",
   "metadata": {},
   "source": [
    "Nope, it is indeed negative. Therefore $\\pm$ must have been $+$, as it already is, and therefore the calculation should have been sound. Clearly they were not; either some number is wrong, some unit is wrong, or some equation is wrong."
   ]
  },
  {
   "cell_type": "markdown",
   "id": "741e494d",
   "metadata": {},
   "source": [
    "## Calculating oxide thickness for our conditions\n",
    "I am assuming 2000 mTorr pressure of $Ar/O_2$ mix. The mixture is 500 ppm $O_2$"
   ]
  },
  {
   "cell_type": "code",
   "execution_count": 19,
   "id": "6c0e4f56",
   "metadata": {},
   "outputs": [
    {
     "data": {
      "text/latex": [
       "$\\displaystyle 0.133322387415 \\text{Pa}$"
      ],
      "text/plain": [
       "0.133322387415⋅pascal"
      ]
     },
     "execution_count": 19,
     "metadata": {},
     "output_type": "execute_result"
    }
   ],
   "source": [
    "from sympy.physics.units import torr, convert_to\n",
    "# total partial pressure of O_2:\n",
    "O2_pp = convert_to(2*torr*500/1e6, pascal)\n",
    "O2_pp"
   ]
  },
  {
   "cell_type": "code",
   "execution_count": 20,
   "id": "7b37874e",
   "metadata": {},
   "outputs": [
    {
     "data": {
      "text/latex": [
       "$\\displaystyle \\left\\{ A_{1} : \\frac{634 \\text{g}^{2}}{\\text{cm}^{4} \\text{s}}, \\  A_{2} : \\frac{0.000867 \\text{g}^{2}}{\\text{cm}^{4} \\text{s}}, \\  A_{l} : \\frac{1.19 \\cdot 10^{-7} \\text{g}}{\\text{cm}^{2} \\text{s}}, \\  E_{1} : \\frac{248000.0 \\text{J}}{\\text{mol}}, \\  E_{2} : \\frac{103000.0 \\text{J}}{\\text{mol}}, \\  E_{l} : \\frac{27000.0 \\text{J}}{\\text{mol}}, \\  F_{p} : 0.83, \\  P_{O_2} : 21000.0 \\text{Pa}, \\  P_{O_2}^{ref,l} : 100 \\text{Pa}, \\  P_{O_2}^{ref,p} : 21000.0 \\text{Pa}, \\  R : \\frac{8.31446261815324 \\text{J}}{\\text{K} \\text{mol}}, \\  T : 1173.15 \\text{K}, \\  T_{ref} : 1173.15 \\text{K}, \\  e : 2.71828182845905, \\  n_{l} : 1.04, \\  n_{p} : 0, \\  t : 28800 \\text{s}, \\  t_{0} : 396 \\text{s}\\right\\}$"
      ],
      "text/plain": [
       "⎧                2                          2                                                                                                                                                                      \n",
       "⎪        634⋅gram              0.000867⋅gram            1.19e-7⋅gram         248000.0⋅joule      103000.0⋅joule      27000.0⋅joule                                                                                 \n",
       "⎨A₁: ──────────────────, A₂: ──────────────────, Aₗ: ──────────────────, E₁: ──────────────, E₂: ──────────────, Eₗ: ─────────────, Fₚ: 0.83, P_{O_2}: 21000.0⋅pascal, P_{O_2}__{ref,l}: 100⋅pascal, P_{O_2}__{ref,\n",
       "⎪              4                       4                       2                  mole                mole                mole                                                                                     \n",
       "⎩    centimeter ⋅second      centimeter ⋅second      centimeter ⋅second                                                                                                                                            \n",
       "\n",
       "                                                                                                                                                               ⎫\n",
       "                       8.31446261815324⋅joule                                                                                                                  ⎪\n",
       "p}: 21000.0⋅pascal, R: ──────────────────────, T: 1173.15⋅kelvin, T_ref: 1173.15⋅kelvin, e: 2.718281828459045, nₗ: 1.04, nₚ: 0, t: 28800⋅second, t₀: 396⋅second⎬\n",
       "                            kelvin⋅mole                                                                                                                        ⎪\n",
       "                                                                                                                                                               ⎭"
      ]
     },
     "execution_count": 20,
     "metadata": {},
     "output_type": "execute_result"
    }
   ],
   "source": [
    "our_conditions = all_conditions\n",
    "our_conditions"
   ]
  },
  {
   "cell_type": "code",
   "execution_count": 21,
   "id": "4f488c53",
   "metadata": {},
   "outputs": [
    {
     "data": {
      "text/latex": [
       "$\\displaystyle \\left\\{ A_{1} : \\frac{634 \\text{g}^{2}}{\\text{cm}^{4} \\text{s}}, \\  A_{2} : \\frac{0.000867 \\text{g}^{2}}{\\text{cm}^{4} \\text{s}}, \\  A_{l} : \\frac{1.19 \\cdot 10^{-7} \\text{g}}{\\text{cm}^{2} \\text{s}}, \\  E_{1} : \\frac{248000.0 \\text{J}}{\\text{mol}}, \\  E_{2} : \\frac{103000.0 \\text{J}}{\\text{mol}}, \\  E_{l} : \\frac{27000.0 \\text{J}}{\\text{mol}}, \\  F_{p} : 0.83, \\  P_{O_2} : 0.133322387415 \\text{Pa}, \\  P_{O_2}^{ref,l} : 100 \\text{Pa}, \\  P_{O_2}^{ref,p} : 21000.0 \\text{Pa}, \\  R : \\frac{8.31446261815324 \\text{J}}{\\text{K} \\text{mol}}, \\  T : 1273.15 \\text{K}, \\  T_{ref} : 1173.15 \\text{K}, \\  e : 2.71828182845905, \\  n_{l} : 1.04, \\  n_{p} : 0, \\  t : 28800 \\text{s}, \\  t_{0} : 396 \\text{s}\\right\\}$"
      ],
      "text/plain": [
       "⎧                2                          2                                                                                                                                                                      \n",
       "⎪        634⋅gram              0.000867⋅gram            1.19e-7⋅gram         248000.0⋅joule      103000.0⋅joule      27000.0⋅joule                                                                                 \n",
       "⎨A₁: ──────────────────, A₂: ──────────────────, Aₗ: ──────────────────, E₁: ──────────────, E₂: ──────────────, Eₗ: ─────────────, Fₚ: 0.83, P_{O_2}: 0.133322387415⋅pascal, P_{O_2}__{ref,l}: 100⋅pascal, P_{O_2}\n",
       "⎪              4                       4                       2                  mole                mole                mole                                                                                     \n",
       "⎩    centimeter ⋅second      centimeter ⋅second      centimeter ⋅second                                                                                                                                            \n",
       "\n",
       "                                                                                                                                                                      ⎫\n",
       "                              8.31446261815324⋅joule                                                                                                                  ⎪\n",
       "__{ref,p}: 21000.0⋅pascal, R: ──────────────────────, T: 1273.15⋅kelvin, T_ref: 1173.15⋅kelvin, e: 2.718281828459045, nₗ: 1.04, nₚ: 0, t: 28800⋅second, t₀: 396⋅second⎬\n",
       "                                   kelvin⋅mole                                                                                                                        ⎪\n",
       "                                                                                                                                                                      ⎭"
      ]
     },
     "execution_count": 21,
     "metadata": {},
     "output_type": "execute_result"
    }
   ],
   "source": [
    "our_conditions[T] = 1273.15*kelvin\n",
    "our_conditions[P_O2] = O2_pp\n",
    "our_conditions"
   ]
  },
  {
   "cell_type": "code",
   "execution_count": 22,
   "id": "590a664c",
   "metadata": {},
   "outputs": [
    {
     "data": {
      "text/latex": [
       "$\\displaystyle \\frac{4.41766906078556 \\cdot 10^{-6} \\text{g}}{\\text{cm}^{2}}$"
      ],
      "text/plain": [
       "4.41766906078556e-6⋅gram\n",
       "────────────────────────\n",
       "                2       \n",
       "      centimeter        "
      ]
     },
     "execution_count": 22,
     "metadata": {},
     "output_type": "execute_result"
    }
   ],
   "source": [
    "x_substituted.evalf(subs=our_conditions)"
   ]
  },
  {
   "cell_type": "code",
   "execution_count": 23,
   "id": "260c38d5",
   "metadata": {},
   "outputs": [
    {
     "data": {
      "text/latex": [
       "$\\displaystyle 7.36278176797593 \\cdot 10^{-7} \\text{cm}$"
      ],
      "text/plain": [
       "7.36278176797593e-7⋅centimeter"
      ]
     },
     "execution_count": 23,
     "metadata": {},
     "output_type": "execute_result"
    }
   ],
   "source": [
    "thickness = x_substituted/(6*gram/cm**3)\n",
    "t_8h = thickness.evalf(subs=our_conditions)\n",
    "t_8h"
   ]
  },
  {
   "cell_type": "code",
   "execution_count": 24,
   "id": "f32f6759",
   "metadata": {},
   "outputs": [
    {
     "data": {
      "text/latex": [
       "$\\displaystyle 7.36278176797593 \\text{nm}$"
      ],
      "text/plain": [
       "7.36278176797593⋅nanometer"
      ]
     },
     "execution_count": 24,
     "metadata": {},
     "output_type": "execute_result"
    }
   ],
   "source": [
    "from sympy.physics.units import nm\n",
    "convert_to(t_8h, nm)"
   ]
  },
  {
   "cell_type": "code",
   "execution_count": 25,
   "id": "d07ac789",
   "metadata": {},
   "outputs": [
    {
     "data": {
      "text/latex": [
       "$\\displaystyle \\left\\{ A_{1} : \\frac{634 \\text{g}^{2}}{\\text{cm}^{4} \\text{s}}, \\  A_{2} : \\frac{0.000867 \\text{g}^{2}}{\\text{cm}^{4} \\text{s}}, \\  A_{l} : \\frac{1.19 \\cdot 10^{-7} \\text{g}}{\\text{cm}^{2} \\text{s}}, \\  E_{1} : \\frac{248000.0 \\text{J}}{\\text{mol}}, \\  E_{2} : \\frac{103000.0 \\text{J}}{\\text{mol}}, \\  E_{l} : \\frac{27000.0 \\text{J}}{\\text{mol}}, \\  F_{p} : 0.83, \\  P_{O_2} : 0.133322387415 \\text{Pa}, \\  P_{O_2}^{ref,l} : 100 \\text{Pa}, \\  P_{O_2}^{ref,p} : 21000.0 \\text{Pa}, \\  R : \\frac{8.31446261815324 \\text{J}}{\\text{K} \\text{mol}}, \\  T : 1273.15 \\text{K}, \\  T_{ref} : 1173.15 \\text{K}, \\  e : 2.71828182845905, \\  n_{l} : 1.04, \\  n_{p} : 0, \\  t_{0} : 396 \\text{s}\\right\\}$"
      ],
      "text/plain": [
       "⎧                2                          2                                                                                                                                                                      \n",
       "⎪        634⋅gram              0.000867⋅gram            1.19e-7⋅gram         248000.0⋅joule      103000.0⋅joule      27000.0⋅joule                                                                                 \n",
       "⎨A₁: ──────────────────, A₂: ──────────────────, Aₗ: ──────────────────, E₁: ──────────────, E₂: ──────────────, Eₗ: ─────────────, Fₚ: 0.83, P_{O_2}: 0.133322387415⋅pascal, P_{O_2}__{ref,l}: 100⋅pascal, P_{O_2}\n",
       "⎪              4                       4                       2                  mole                mole                mole                                                                                     \n",
       "⎩    centimeter ⋅second      centimeter ⋅second      centimeter ⋅second                                                                                                                                            \n",
       "\n",
       "                                                                                                                                                     ⎫\n",
       "                              8.31446261815324⋅joule                                                                                                 ⎪\n",
       "__{ref,p}: 21000.0⋅pascal, R: ──────────────────────, T: 1273.15⋅kelvin, T_ref: 1173.15⋅kelvin, e: 2.718281828459045, nₗ: 1.04, nₚ: 0, t₀: 396⋅second⎬\n",
       "                                   kelvin⋅mole                                                                                                       ⎪\n",
       "                                                                                                                                                     ⎭"
      ]
     },
     "execution_count": 25,
     "metadata": {},
     "output_type": "execute_result"
    }
   ],
   "source": [
    "conditions_but_time = our_conditions\n",
    "conditions_but_time.pop(t)\n",
    "conditions_but_time"
   ]
  },
  {
   "cell_type": "code",
   "execution_count": null,
   "id": "7066ba0e",
   "metadata": {},
   "outputs": [],
   "source": []
  },
  {
   "cell_type": "code",
   "execution_count": 26,
   "id": "376bb27d",
   "metadata": {},
   "outputs": [
    {
     "data": {
      "text/latex": [
       "$\\displaystyle \\frac{0.00217933247269037 \\text{g}}{\\text{cm}^{2}}$"
      ],
      "text/plain": [
       "0.00217933247269037⋅gram\n",
       "────────────────────────\n",
       "                2       \n",
       "      centimeter        "
      ]
     },
     "execution_count": 26,
     "metadata": {},
     "output_type": "execute_result"
    }
   ],
   "source": [
    "cond_100pa_4h = our_conditions\n",
    "cond_100pa_4h[P_O2] = 100*pascal\n",
    "cond_100pa_4h[t] = 4*60*60*second\n",
    "x_substituted.evalf(subs=cond_100pa_4h)"
   ]
  },
  {
   "cell_type": "code",
   "execution_count": 27,
   "id": "8dea1506",
   "metadata": {},
   "outputs": [
    {
     "ename": "NameError",
     "evalue": "name 'cond_200pa_4h' is not defined",
     "output_type": "error",
     "traceback": [
      "\u001b[0;31m---------------------------------------------------------------------------\u001b[0m",
      "\u001b[0;31mNameError\u001b[0m                                 Traceback (most recent call last)",
      "\u001b[0;32m/tmp/ipykernel_107052/2070389404.py\u001b[0m in \u001b[0;36m<module>\u001b[0;34m\u001b[0m\n\u001b[1;32m      1\u001b[0m \u001b[0mall_conditions_4b\u001b[0m \u001b[0;34m=\u001b[0m  \u001b[0;34m{\u001b[0m\u001b[0;34m**\u001b[0m\u001b[0mfitted_values\u001b[0m\u001b[0;34m,\u001b[0m \u001b[0;34m**\u001b[0m\u001b[0mexperiment_constants\u001b[0m\u001b[0;34m,\u001b[0m \u001b[0;34m**\u001b[0m\u001b[0;34m(\u001b[0m\u001b[0mexperiment_values\u001b[0m\u001b[0;34m[\u001b[0m\u001b[0;34m\"4B\"\u001b[0m\u001b[0;34m]\u001b[0m\u001b[0;34m)\u001b[0m\u001b[0;34m}\u001b[0m\u001b[0;34m\u001b[0m\u001b[0;34m\u001b[0m\u001b[0m\n\u001b[0;32m----> 2\u001b[0;31m \u001b[0mx_substituted\u001b[0m\u001b[0;34m.\u001b[0m\u001b[0mevalf\u001b[0m\u001b[0;34m(\u001b[0m\u001b[0msubs\u001b[0m\u001b[0;34m=\u001b[0m\u001b[0mcond_200pa_4h\u001b[0m\u001b[0;34m)\u001b[0m\u001b[0;34m\u001b[0m\u001b[0;34m\u001b[0m\u001b[0m\n\u001b[0m",
      "\u001b[0;31mNameError\u001b[0m: name 'cond_200pa_4h' is not defined"
     ]
    }
   ],
   "source": [
    "all_conditions_4b =  {**fitted_values, **experiment_constants, **(experiment_values[\"4B\"])}\n",
    "x_substituted.evalf(subs=cond_100pa_4h)"
   ]
  },
  {
   "cell_type": "code",
   "execution_count": null,
   "id": "05e49ae5",
   "metadata": {},
   "outputs": [],
   "source": [
    "x_linear_substituted.evalf(subs=cond_100pa_4h)"
   ]
  },
  {
   "cell_type": "code",
   "execution_count": null,
   "id": "1dfec6b0",
   "metadata": {},
   "outputs": [],
   "source": [
    "cond_100pa_8h = cond_100pa_4h\n",
    "cond_100pa_8h[t] = 8*60*60*second\n",
    "x_substituted.evalf(subs=cond_100pa_8h)"
   ]
  },
  {
   "cell_type": "markdown",
   "id": "6a0fbc65",
   "metadata": {},
   "source": [
    "Since it is assumed that the function is in the linear regime, we can simply find the coefficient by dividing `t_8h` by 8 hours and then multiplying this by whatever time we want. Plot of this below:"
   ]
  },
  {
   "cell_type": "code",
   "execution_count": null,
   "id": "7eb3e821",
   "metadata": {},
   "outputs": [],
   "source": [
    "# define thick_lam as a lamdified thickness, so it can be efficiently computed from a numpy arange of times\n",
    "import numpy\n",
    "import matplotlib.pyplot as plt\n",
    "\n",
    "times = numpy.arange(0, 28800.0, 60.0)\n",
    "thicknesses = []\n",
    "\n",
    "#coeff = t_8h/28800\n",
    "coeff = 7.36278176797593/28800\n",
    "#display(x_substituted.subs(conditions_but_time))\n",
    "\n",
    "#thick_lam = sympy.lambdify(t, x_substituted.subs(conditions_but_time), \"numpy\")\n",
    "for time in times:\n",
    "    thicknesses.append(coeff*time)\n",
    "\n",
    "plt.plot(times, thicknesses)"
   ]
  },
  {
   "cell_type": "markdown",
   "id": "0b5a4004",
   "metadata": {},
   "source": [
    "## Oxidation at 200 Torr\n",
    "We can reach 200 Torr with the rough pump and the flow valve (E9) closed, but this would require the poppet valve to close as well. That would mean that the diffusion pump would not be pumped for the duration of the oxidation, and this would put a limit on the time that we have to oxidize (roughly 5-10 minutes max). First, it is necessary to determine whether 5 minutes of oxidation at 200 Torr at 500 ppm is enough time for us to get into the approximate range of $10^{-8}m$:"
   ]
  },
  {
   "cell_type": "code",
   "execution_count": null,
   "id": "132aaaef",
   "metadata": {},
   "outputs": [],
   "source": [
    "# what is the partial pressure at 200 Torr and 500 ppm O_2?\n",
    "O2_part_pres_200torr = 200*torr*(500/1e6)\n",
    "display(O2_part_pres_200torr)\n",
    "convert_to(O2_part_pres_200torr, pascal)"
   ]
  },
  {
   "cell_type": "code",
   "execution_count": null,
   "id": "2fbf94d8",
   "metadata": {},
   "outputs": [],
   "source": [
    "cond_200_torr = our_conditions\n",
    "cond_200_torr[t] = 5*60*second # 5 minutes\n",
    "cond_200_torr[P_O2] = convert_to(O2_part_pres_200torr, pascal) # our pressure\n",
    "cond_200_torr"
   ]
  },
  {
   "cell_type": "code",
   "execution_count": null,
   "id": "26d0d3b5",
   "metadata": {},
   "outputs": [],
   "source": [
    "# calculate oxidation thickness in our new conditions\n",
    "convert_to(x_substituted.evalf(subs=cond_200_torr)/(6*gram/cm**3), nm)"
   ]
  },
  {
   "cell_type": "code",
   "execution_count": null,
   "id": "04fb4b3f",
   "metadata": {},
   "outputs": [],
   "source": [
    "temp_800_torr_200 = cond_200_torr\n",
    "temp_800_torr_200[T] = 1073.15*kelvin\n",
    "convert_to(x_substituted.evalf(subs=temp_800_torr_200)/(6*gram/cm**3), nm)"
   ]
  },
  {
   "cell_type": "code",
   "execution_count": null,
   "id": "008178ce",
   "metadata": {},
   "outputs": [],
   "source": [
    "R_substituted = R_expr.subs([(k_p, k_p_expr), (k_l, k_l_expr)])\n",
    "R_substituted.evalf(subs=cond_200_torr)"
   ]
  },
  {
   "cell_type": "markdown",
   "id": "f31cfb69",
   "metadata": {},
   "source": [
    "This is enough!! Perhaps, even too much. **TODO:** plot out thicknesses at different time points in this range "
   ]
  },
  {
   "cell_type": "code",
   "execution_count": null,
   "id": "5d868119",
   "metadata": {},
   "outputs": [],
   "source": [
    "numpy.arange?"
   ]
  },
  {
   "cell_type": "code",
   "execution_count": null,
   "id": "8dc662b2",
   "metadata": {},
   "outputs": [],
   "source": [
    "import math\n",
    "1/math.tan(5*math.pi/180)*0.075"
   ]
  },
  {
   "cell_type": "code",
   "execution_count": null,
   "id": "159aab81",
   "metadata": {},
   "outputs": [],
   "source": [
    "math.tan(5*math.pi/180)*1.6"
   ]
  }
 ],
 "metadata": {
  "kernelspec": {
   "display_name": "symbev",
   "language": "python",
   "name": "symbev"
  },
  "language_info": {
   "codemirror_mode": {
    "name": "ipython",
    "version": 3
   },
   "file_extension": ".py",
   "mimetype": "text/x-python",
   "name": "python",
   "nbconvert_exporter": "python",
   "pygments_lexer": "ipython3",
   "version": "3.9.7"
  }
 },
 "nbformat": 4,
 "nbformat_minor": 5
}
